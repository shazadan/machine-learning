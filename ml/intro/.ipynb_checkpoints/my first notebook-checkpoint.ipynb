{
 "cells": [
  {
   "cell_type": "code",
   "execution_count": 6,
   "metadata": {
    "collapsed": true
   },
   "outputs": [],
   "source": [
    "# This line configures matplotlib to show figures embedded in the notebook, \n",
    "# instead of opening a new window for each figure. \n",
    "# If you are using an old version of IPython, try using '%pylab inline' instead.\n",
    "%matplotlib inline"
   ]
  },
  {
   "cell_type": "code",
   "execution_count": 7,
   "metadata": {
    "collapsed": true
   },
   "outputs": [],
   "source": [
    "# import libraries\n",
    "from pylab import *\n",
    "import numpy as np"
   ]
  },
  {
   "cell_type": "code",
   "execution_count": 8,
   "metadata": {
    "collapsed": true
   },
   "outputs": [],
   "source": [
    "# populate values for x\n",
    "x = np.linspace(0, 5, 10)\n",
    "# declare a function - in this case x cubed\n",
    "y = x ** 3"
   ]
  },
  {
   "cell_type": "code",
   "execution_count": 9,
   "metadata": {
    "collapsed": false
   },
   "outputs": [
    {
     "data": {
      "image/png": "[encoded data removed]",
      "text/plain": [
       "<matplotlib.figure.Figure at 0x1061b3ed0>"
      ]
     },
     "metadata": {},
     "output_type": "display_data"
    }
   ],
   "source": [
    "# Plot the function\n",
    "figure()\n",
    "plot(x, y, 'r')\n",
    "xlabel('x')\n",
    "ylabel('y')\n",
    "title('title')\n",
    "show()"
   ]
  },
  {
   "cell_type": "code",
   "execution_count": 1,
   "metadata": {
    "collapsed": false
   },
   "outputs": [],
   "source": [
    "ratings = { 'Wilson Mcgee': {'Frozen': 2, 'Goodfellas': 4,'Life of Pi': 3, 'Minority Report': 5, 'Wedding Crashers': 1},\n",
    "            'Shelley Beck': {'Frozen': 4, 'Goodfellas': 3,'Life of Pi': 2, 'Minority Report': 3, 'Wedding Crashers': 5},\n",
    "            'Darrell Wheeler': {'Frozen': 5, 'Goodfellas': 3,'Life of Pi': 1, 'Minority Report': 2, 'Wedding Crashers': 3},\n",
    "            'May White': {'Frozen': 1, 'Goodfellas': 3, 'Life of Pi': 4, 'Minority Report': 5, 'Wedding Crashers': 2},\n",
    "            'Jacob Walton': {'Frozen': 4, 'Goodfellas': 2,'Life of Pi': 3, 'Minority Report': 1, 'Wedding Crashers': 5},\n",
    "            'Alejandro Sanchez': {'Frozen': 2, 'Goodfellas': 4,'Life of Pi': 3, 'Minority Report': 5, 'Wedding Crashers': 1}                      \n",
    "}"
   ]
  },
  {
   "cell_type": "code",
   "execution_count": 8,
   "metadata": {
    "collapsed": true
   },
   "outputs": [],
   "source": [
    "from math import sqrt\n",
    "\n",
    "# Return a similarity score for two customers \n",
    "# using the Pearson Correlation Coefficient (PCC)\n",
    "def similarity_score(ratings, customer1, customer2):\n",
    "    # Iterate through ratings from both customers\n",
    "    score = {}\n",
    "    for item in ratings[customer1]:\n",
    "        if item in ratings[customer2]:\n",
    "            score[item] = 1\n",
    "\n",
    "    # Determine how many of the same movies both \n",
    "    # customers have rated\n",
    "    n = len(score)\n",
    "    \n",
    "    ret_val = 0\n",
    "\n",
    "    # if there is no overlap in rated movies then \n",
    "    # set the score to zero\n",
    "    if n == 0:\n",
    "        ret_val = 0\n",
    "    \n",
    "    else:\n",
    "        # Calculate the components needed to compute PCC\n",
    "        sum1 = sum([ratings[customer1][i] for i in score])\n",
    "        sum2 = sum([ratings[customer2][i] for i in score])\n",
    "\n",
    "        sum1_squares = sum([pow(ratings[customer1][i], 2) for i in score])\n",
    "        \n",
    "        sum2_squares = sum([pow(ratings[customer2][i], 2) for i in score])\n",
    "\n",
    "        sum_products = sum([ratings[customer1][i] * ratings[customer2][i] \n",
    "                            for i in score])\n",
    "\n",
    "        numerator = sum_products - ((sum1 * sum2) / n)\n",
    "        denominator = sqrt((sum1_squares - pow(sum1, 2)/n) * (sum2_squares - pow(sum2, 2)/n))\n",
    "\n",
    "        if denominator == 0: \n",
    "            ret_val = 0\n",
    "        else:\n",
    "\n",
    "            ret_val = (numerator/denominator)\n",
    "\n",
    "    return ret_val"
   ]
  },
  {
   "cell_type": "code",
   "execution_count": 9,
   "metadata": {
    "collapsed": false
   },
   "outputs": [
    {
     "data": {
      "text/plain": [
       "1.0"
      ]
     },
     "execution_count": 9,
     "metadata": {},
     "output_type": "execute_result"
    }
   ],
   "source": [
    "customer1 = 'Wilson Mcgee'\n",
    "customer2 = 'Alejandro Sanchez'\n",
    "similarity_score(ratings, customer1, customer2)"
   ]
  }
 ],
 "metadata": {
  "kernelspec": {
   "display_name": "Python 2",
   "language": "python",
   "name": "python2"
  },
  "language_info": {
   "codemirror_mode": {
    "name": "ipython",
    "version": 2
   },
   "file_extension": ".py",
   "mimetype": "text/x-python",
   "name": "python",
   "nbconvert_exporter": "python",
   "pygments_lexer": "ipython2",
   "version": "2.7.10"
  }
 },
 "nbformat": 4,
 "nbformat_minor": 0
}
